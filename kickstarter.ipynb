{
 "cells": [
  {
   "cell_type": "markdown",
   "metadata": {
    "slideshow": {
     "slide_type": "slide"
    }
   },
   "source": [
    "## Carregamento e Limpeza dos Dados"
   ]
  },
  {
   "cell_type": "code",
   "execution_count": 4,
   "metadata": {
    "slideshow": {
     "slide_type": "subslide"
    }
   },
   "outputs": [],
   "source": [
    "import pandas as pd\n",
    "from datetime import datetime as dt"
   ]
  },
  {
   "cell_type": "code",
   "execution_count": 5,
   "metadata": {
    "slideshow": {
     "slide_type": "subslide"
    }
   },
   "outputs": [],
   "source": [
    "df = pd.read_csv('ks-projects-201801.csv')\n",
    "\n",
    "def to_time(str, mask):\n",
    "    return dt.strptime(str, mask)\n",
    "\n",
    "def col_dict(dataframe, col):\n",
    "    unique_values = dataframe[col].unique()\n",
    "    dc = {}\n",
    "\n",
    "    for idx,val in enumerate(unique_values):\n",
    "        dc[val] = idx\n",
    "\n",
    "    return dc\n",
    "\n",
    "def to_numeric(dataframe, col):\n",
    "    \"\"\" Transforms the values of column col to a numeric mapping.\n",
    "        Returns the transformed dataframe and the dictionary with the mapping.\"\"\"\n",
    "    df = dataframe\n",
    "    dc = col_dict(df, col)\n",
    "    df[col] = df[col].apply(lambda x: dc[x])\n",
    "\n",
    "    return df, dc\n",
    "\n",
    "\n",
    "\"\"\"\n",
    "State feature transformation:\n",
    "\n",
    "1 - Removing projects with state equals to 'undefined' or 'live'\n",
    "2 - Change the values to make a binary classification:\n",
    "\n",
    "successful: 1\n",
    "failed: 0\n",
    "canceled: 0\n",
    "suspended': 0\n",
    "\"\"\"\n",
    "\n",
    "df.drop(df[(df.state == 'live') | (df.state == 'undefined')].index, inplace=True)\n",
    "df['state'] = (df['state'] == 'successful').astype(int)\n",
    "\n",
    "\n",
    "\"\"\"Cleans and add columns from columns already in the data\"\"\"\n",
    "# Convert string to datetime and get the \n",
    "# difference in days from beginning to end of the campaign\n",
    "\n",
    "df['running_days'] = (\n",
    "    df['deadline'].apply(to_time, args=('%Y-%m-%d',)) \n",
    "    - df['launched'].apply(to_time, args=('%Y-%m-%d %H:%M:%S',))\n",
    ").apply(lambda x: x.days)\n",
    "  \n",
    "df, cat_dict = to_numeric(df, 'category')\n",
    "df, main_cat_dict = to_numeric(df, 'main_category')\n",
    "df, country_dict = to_numeric(df, 'country')\n",
    "\n",
    "# Removing unused features\n",
    "df.drop('ID', axis=1, inplace=True)\n",
    "df.drop('name', axis=1, inplace=True)\n",
    "df.drop('deadline', axis=1, inplace=True)\n",
    "df.drop('launched', axis=1, inplace=True)\n",
    "df.drop('pledged', axis=1, inplace=True)\n",
    "df.drop('usd_pledged', axis=1, inplace=True)\n",
    "df.drop('goal', axis=1, inplace=True)\n",
    "df.drop('currency', axis=1, inplace=True)\n",
    "df.drop('backers', axis=1, inplace=True)\n",
    "df.drop('usd_pledged_real', axis=1, inplace=True)"
   ]
  },
  {
   "cell_type": "markdown",
   "metadata": {},
   "source": [
    "## Criando conjuntos de treino e teste"
   ]
  },
  {
   "cell_type": "code",
   "execution_count": 6,
   "metadata": {},
   "outputs": [],
   "source": [
    "from sklearn.model_selection import train_test_split\n",
    "import numpy as np"
   ]
  },
  {
   "cell_type": "code",
   "execution_count": 7,
   "metadata": {},
   "outputs": [],
   "source": [
    "y_column = 'state'\n",
    "cols_labels = df.columns.values\n",
    "sidx = np.argsort(cols_labels)\n",
    "y_index_column = sidx[np.searchsorted(cols_labels,y_column,sorter=sidx)]\n",
    "\n",
    "values = df.values\n",
    "values_shape = values.shape\n",
    "\n",
    "y = values[:,y_index_column]\n",
    "X = np.concatenate((values[:, 0:y_index_column], values[:,y_index_column+1:values_shape[1]]), axis=1)\n",
    "\n",
    "X_train, X_test, y_train, y_test = train_test_split(X, y, test_size= 0.3, shuffle=True)\n",
    "\n",
    "df = pd.DataFrame(X_train)\n",
    "df.to_csv(\"X_train.csv\")\n",
    "\n",
    "df = pd.DataFrame(X_test)\n",
    "df.to_csv(\"X_test.csv\")\n",
    "\n",
    "df = pd.DataFrame(y_train)\n",
    "df.to_csv(\"y_train.csv\")\n",
    "\n",
    "df = pd.DataFrame(y_test)\n",
    "df.to_csv(\"y_train.csv\")\n"
   ]
  },
  {
   "cell_type": "markdown",
   "metadata": {},
   "source": [
    "## Normalização dos dados (média e feature scaling)"
   ]
  },
  {
   "cell_type": "code",
   "execution_count": 8,
   "metadata": {},
   "outputs": [],
   "source": [
    "#import numpy as np\n",
    "from sklearn.preprocessing import StandardScaler"
   ]
  },
  {
   "cell_type": "code",
   "execution_count": 10,
   "metadata": {},
   "outputs": [],
   "source": [
    "# y_column = 'state'\n",
    "# columns_to_normalize = ['running_days', 'backers', 'usd_pledged_real', 'usd_goal_real']\n",
    "# cols_labels = df.columns.values\n",
    "# sidx = np.argsort(cols_labels)\n",
    "# index_columns = sidx[np.searchsorted(cols_labels,columns_to_normalize,sorter=sidx)]\n",
    "# y_index_columns = sidx[np.searchsorted(cols_labels,y_column,sorter=sidx)]\n",
    "\n",
    "# values = df.values\n",
    "# values_shape = values.shape\n",
    "    \n",
    "# for j in index_columns:\n",
    "#     max_value = np.max(values[:,j])\n",
    "#     min_value = np.min(values[:,j])\n",
    "#     mean = np.sum(values[:,j]) / values_shape[0]\n",
    "\n",
    "#     i = 0\n",
    "#     while i < values_shape[0]:\n",
    "#         values[i, j] = (values[i, j] - mean) / (max_value - min_value)\n",
    "#         i = i + 1\n",
    "\n",
    "# y = values[:,y_index_columns]\n",
    "# X = np.concatenate((values[:, 0:y_index_columns], values[:,y_index_columns+1:values_shape[1]]), axis=1)\n",
    "\n",
    "scaler = StandardScaler()\n",
    "scaler.fit(X_train)\n",
    "X_train = scaler.transform(X_train)\n",
    "X_test = scaler.transform(X_test)"
   ]
  },
  {
   "cell_type": "markdown",
   "metadata": {},
   "source": [
    "## Multilayer Perceptron"
   ]
  },
  {
   "cell_type": "code",
   "execution_count": 11,
   "metadata": {},
   "outputs": [],
   "source": [
    "from sklearn.neural_network import MLPClassifier\n",
    "from sklearn.metrics import classification_report\n",
    "from sklearn.model_selection import GridSearchCV\n",
    "from sklearn import neural_network"
   ]
  },
  {
   "cell_type": "code",
   "execution_count": 12,
   "metadata": {
    "scrolled": true
   },
   "outputs": [
    {
     "name": "stderr",
     "output_type": "stream",
     "text": [
      "/home/erickbs7/workspaces/teste/machinelearning/env/lib/python3.6/site-packages/sklearn/model_selection/_split.py:1943: FutureWarning: You should specify a value for 'cv' instead of relying on the default value. The default value will change from 3 to 5 in version 0.22.\n",
      "  warnings.warn(CV_WARNING, FutureWarning)\n"
     ]
    },
    {
     "name": "stdout",
     "output_type": "stream",
     "text": [
      "Best parameters set found on development set:\n",
      "\n",
      "{'alpha': 0.01, 'hidden_layer_sizes': (5, 5), 'max_iter': 500, 'solver': 'adam'}\n",
      "\n",
      "Grid scores on development set:\n",
      "\n",
      "0.642 (+/-0.001) for {'alpha': 0.1, 'hidden_layer_sizes': 1, 'max_iter': 500, 'solver': 'adam'}\n",
      "0.642 (+/-0.001) for {'alpha': 0.1, 'hidden_layer_sizes': 1, 'max_iter': 1000, 'solver': 'adam'}\n",
      "0.642 (+/-0.000) for {'alpha': 0.1, 'hidden_layer_sizes': 2, 'max_iter': 500, 'solver': 'adam'}\n",
      "0.642 (+/-0.001) for {'alpha': 0.1, 'hidden_layer_sizes': 2, 'max_iter': 1000, 'solver': 'adam'}\n",
      "0.645 (+/-0.004) for {'alpha': 0.1, 'hidden_layer_sizes': 3, 'max_iter': 500, 'solver': 'adam'}\n",
      "0.644 (+/-0.003) for {'alpha': 0.1, 'hidden_layer_sizes': 3, 'max_iter': 1000, 'solver': 'adam'}\n",
      "0.645 (+/-0.003) for {'alpha': 0.1, 'hidden_layer_sizes': 4, 'max_iter': 500, 'solver': 'adam'}\n",
      "0.644 (+/-0.000) for {'alpha': 0.1, 'hidden_layer_sizes': 4, 'max_iter': 1000, 'solver': 'adam'}\n",
      "0.646 (+/-0.002) for {'alpha': 0.1, 'hidden_layer_sizes': 5, 'max_iter': 500, 'solver': 'adam'}\n",
      "0.646 (+/-0.003) for {'alpha': 0.1, 'hidden_layer_sizes': 5, 'max_iter': 1000, 'solver': 'adam'}\n",
      "0.641 (+/-0.002) for {'alpha': 0.1, 'hidden_layer_sizes': (1, 1), 'max_iter': 500, 'solver': 'adam'}\n",
      "0.642 (+/-0.004) for {'alpha': 0.1, 'hidden_layer_sizes': (1, 1), 'max_iter': 1000, 'solver': 'adam'}\n",
      "0.643 (+/-0.006) for {'alpha': 0.1, 'hidden_layer_sizes': (2, 2), 'max_iter': 500, 'solver': 'adam'}\n",
      "0.644 (+/-0.002) for {'alpha': 0.1, 'hidden_layer_sizes': (2, 2), 'max_iter': 1000, 'solver': 'adam'}\n",
      "0.645 (+/-0.004) for {'alpha': 0.1, 'hidden_layer_sizes': (3, 3), 'max_iter': 500, 'solver': 'adam'}\n",
      "0.648 (+/-0.005) for {'alpha': 0.1, 'hidden_layer_sizes': (3, 3), 'max_iter': 1000, 'solver': 'adam'}\n",
      "0.649 (+/-0.002) for {'alpha': 0.1, 'hidden_layer_sizes': (4, 4), 'max_iter': 500, 'solver': 'adam'}\n",
      "0.648 (+/-0.001) for {'alpha': 0.1, 'hidden_layer_sizes': (4, 4), 'max_iter': 1000, 'solver': 'adam'}\n",
      "0.653 (+/-0.008) for {'alpha': 0.1, 'hidden_layer_sizes': (5, 5), 'max_iter': 500, 'solver': 'adam'}\n",
      "0.655 (+/-0.003) for {'alpha': 0.1, 'hidden_layer_sizes': (5, 5), 'max_iter': 1000, 'solver': 'adam'}\n",
      "0.646 (+/-0.002) for {'alpha': 0.01, 'hidden_layer_sizes': 1, 'max_iter': 500, 'solver': 'adam'}\n",
      "0.644 (+/-0.001) for {'alpha': 0.01, 'hidden_layer_sizes': 1, 'max_iter': 1000, 'solver': 'adam'}\n",
      "0.645 (+/-0.003) for {'alpha': 0.01, 'hidden_layer_sizes': 2, 'max_iter': 500, 'solver': 'adam'}\n",
      "0.647 (+/-0.003) for {'alpha': 0.01, 'hidden_layer_sizes': 2, 'max_iter': 1000, 'solver': 'adam'}\n",
      "0.646 (+/-0.001) for {'alpha': 0.01, 'hidden_layer_sizes': 3, 'max_iter': 500, 'solver': 'adam'}\n",
      "0.645 (+/-0.002) for {'alpha': 0.01, 'hidden_layer_sizes': 3, 'max_iter': 1000, 'solver': 'adam'}\n",
      "0.646 (+/-0.003) for {'alpha': 0.01, 'hidden_layer_sizes': 4, 'max_iter': 500, 'solver': 'adam'}\n",
      "0.648 (+/-0.005) for {'alpha': 0.01, 'hidden_layer_sizes': 4, 'max_iter': 1000, 'solver': 'adam'}\n",
      "0.648 (+/-0.002) for {'alpha': 0.01, 'hidden_layer_sizes': 5, 'max_iter': 500, 'solver': 'adam'}\n",
      "0.649 (+/-0.002) for {'alpha': 0.01, 'hidden_layer_sizes': 5, 'max_iter': 1000, 'solver': 'adam'}\n",
      "0.640 (+/-0.000) for {'alpha': 0.01, 'hidden_layer_sizes': (1, 1), 'max_iter': 500, 'solver': 'adam'}\n",
      "0.642 (+/-0.004) for {'alpha': 0.01, 'hidden_layer_sizes': (1, 1), 'max_iter': 1000, 'solver': 'adam'}\n",
      "0.646 (+/-0.004) for {'alpha': 0.01, 'hidden_layer_sizes': (2, 2), 'max_iter': 500, 'solver': 'adam'}\n",
      "0.645 (+/-0.005) for {'alpha': 0.01, 'hidden_layer_sizes': (2, 2), 'max_iter': 1000, 'solver': 'adam'}\n",
      "0.649 (+/-0.003) for {'alpha': 0.01, 'hidden_layer_sizes': (3, 3), 'max_iter': 500, 'solver': 'adam'}\n",
      "0.653 (+/-0.010) for {'alpha': 0.01, 'hidden_layer_sizes': (3, 3), 'max_iter': 1000, 'solver': 'adam'}\n",
      "0.649 (+/-0.005) for {'alpha': 0.01, 'hidden_layer_sizes': (4, 4), 'max_iter': 500, 'solver': 'adam'}\n",
      "0.649 (+/-0.002) for {'alpha': 0.01, 'hidden_layer_sizes': (4, 4), 'max_iter': 1000, 'solver': 'adam'}\n",
      "0.664 (+/-0.005) for {'alpha': 0.01, 'hidden_layer_sizes': (5, 5), 'max_iter': 500, 'solver': 'adam'}\n",
      "0.658 (+/-0.013) for {'alpha': 0.01, 'hidden_layer_sizes': (5, 5), 'max_iter': 1000, 'solver': 'adam'}\n",
      "0.646 (+/-0.003) for {'alpha': 0.001, 'hidden_layer_sizes': 1, 'max_iter': 500, 'solver': 'adam'}\n",
      "0.645 (+/-0.004) for {'alpha': 0.001, 'hidden_layer_sizes': 1, 'max_iter': 1000, 'solver': 'adam'}\n",
      "0.645 (+/-0.001) for {'alpha': 0.001, 'hidden_layer_sizes': 2, 'max_iter': 500, 'solver': 'adam'}\n",
      "0.643 (+/-0.003) for {'alpha': 0.001, 'hidden_layer_sizes': 2, 'max_iter': 1000, 'solver': 'adam'}\n",
      "0.647 (+/-0.001) for {'alpha': 0.001, 'hidden_layer_sizes': 3, 'max_iter': 500, 'solver': 'adam'}\n",
      "0.647 (+/-0.001) for {'alpha': 0.001, 'hidden_layer_sizes': 3, 'max_iter': 1000, 'solver': 'adam'}\n",
      "0.648 (+/-0.002) for {'alpha': 0.001, 'hidden_layer_sizes': 4, 'max_iter': 500, 'solver': 'adam'}\n",
      "0.647 (+/-0.005) for {'alpha': 0.001, 'hidden_layer_sizes': 4, 'max_iter': 1000, 'solver': 'adam'}\n",
      "0.648 (+/-0.002) for {'alpha': 0.001, 'hidden_layer_sizes': 5, 'max_iter': 500, 'solver': 'adam'}\n",
      "0.648 (+/-0.007) for {'alpha': 0.001, 'hidden_layer_sizes': 5, 'max_iter': 1000, 'solver': 'adam'}\n",
      "0.644 (+/-0.006) for {'alpha': 0.001, 'hidden_layer_sizes': (1, 1), 'max_iter': 500, 'solver': 'adam'}\n",
      "0.645 (+/-0.006) for {'alpha': 0.001, 'hidden_layer_sizes': (1, 1), 'max_iter': 1000, 'solver': 'adam'}\n",
      "0.647 (+/-0.003) for {'alpha': 0.001, 'hidden_layer_sizes': (2, 2), 'max_iter': 500, 'solver': 'adam'}\n",
      "0.645 (+/-0.001) for {'alpha': 0.001, 'hidden_layer_sizes': (2, 2), 'max_iter': 1000, 'solver': 'adam'}\n",
      "0.650 (+/-0.005) for {'alpha': 0.001, 'hidden_layer_sizes': (3, 3), 'max_iter': 500, 'solver': 'adam'}\n",
      "0.647 (+/-0.004) for {'alpha': 0.001, 'hidden_layer_sizes': (3, 3), 'max_iter': 1000, 'solver': 'adam'}\n",
      "0.652 (+/-0.008) for {'alpha': 0.001, 'hidden_layer_sizes': (4, 4), 'max_iter': 500, 'solver': 'adam'}\n",
      "0.656 (+/-0.006) for {'alpha': 0.001, 'hidden_layer_sizes': (4, 4), 'max_iter': 1000, 'solver': 'adam'}\n",
      "0.657 (+/-0.004) for {'alpha': 0.001, 'hidden_layer_sizes': (5, 5), 'max_iter': 500, 'solver': 'adam'}\n",
      "0.663 (+/-0.004) for {'alpha': 0.001, 'hidden_layer_sizes': (5, 5), 'max_iter': 1000, 'solver': 'adam'}\n",
      "0.646 (+/-0.003) for {'alpha': 0.0001, 'hidden_layer_sizes': 1, 'max_iter': 500, 'solver': 'adam'}\n",
      "0.646 (+/-0.003) for {'alpha': 0.0001, 'hidden_layer_sizes': 1, 'max_iter': 1000, 'solver': 'adam'}\n",
      "0.645 (+/-0.002) for {'alpha': 0.0001, 'hidden_layer_sizes': 2, 'max_iter': 500, 'solver': 'adam'}\n",
      "0.646 (+/-0.002) for {'alpha': 0.0001, 'hidden_layer_sizes': 2, 'max_iter': 1000, 'solver': 'adam'}\n",
      "0.646 (+/-0.005) for {'alpha': 0.0001, 'hidden_layer_sizes': 3, 'max_iter': 500, 'solver': 'adam'}\n",
      "0.646 (+/-0.005) for {'alpha': 0.0001, 'hidden_layer_sizes': 3, 'max_iter': 1000, 'solver': 'adam'}\n",
      "0.649 (+/-0.007) for {'alpha': 0.0001, 'hidden_layer_sizes': 4, 'max_iter': 500, 'solver': 'adam'}\n",
      "0.651 (+/-0.005) for {'alpha': 0.0001, 'hidden_layer_sizes': 4, 'max_iter': 1000, 'solver': 'adam'}\n",
      "0.648 (+/-0.001) for {'alpha': 0.0001, 'hidden_layer_sizes': 5, 'max_iter': 500, 'solver': 'adam'}\n",
      "0.652 (+/-0.007) for {'alpha': 0.0001, 'hidden_layer_sizes': 5, 'max_iter': 1000, 'solver': 'adam'}\n",
      "0.644 (+/-0.006) for {'alpha': 0.0001, 'hidden_layer_sizes': (1, 1), 'max_iter': 500, 'solver': 'adam'}\n",
      "0.644 (+/-0.002) for {'alpha': 0.0001, 'hidden_layer_sizes': (1, 1), 'max_iter': 1000, 'solver': 'adam'}\n",
      "0.644 (+/-0.003) for {'alpha': 0.0001, 'hidden_layer_sizes': (2, 2), 'max_iter': 500, 'solver': 'adam'}\n",
      "0.645 (+/-0.007) for {'alpha': 0.0001, 'hidden_layer_sizes': (2, 2), 'max_iter': 1000, 'solver': 'adam'}\n",
      "0.648 (+/-0.002) for {'alpha': 0.0001, 'hidden_layer_sizes': (3, 3), 'max_iter': 500, 'solver': 'adam'}\n",
      "0.645 (+/-0.009) for {'alpha': 0.0001, 'hidden_layer_sizes': (3, 3), 'max_iter': 1000, 'solver': 'adam'}\n",
      "0.659 (+/-0.009) for {'alpha': 0.0001, 'hidden_layer_sizes': (4, 4), 'max_iter': 500, 'solver': 'adam'}\n",
      "0.656 (+/-0.009) for {'alpha': 0.0001, 'hidden_layer_sizes': (4, 4), 'max_iter': 1000, 'solver': 'adam'}\n",
      "0.656 (+/-0.002) for {'alpha': 0.0001, 'hidden_layer_sizes': (5, 5), 'max_iter': 500, 'solver': 'adam'}\n",
      "0.657 (+/-0.005) for {'alpha': 0.0001, 'hidden_layer_sizes': (5, 5), 'max_iter': 1000, 'solver': 'adam'}\n",
      "0.645 (+/-0.005) for {'alpha': 1e-05, 'hidden_layer_sizes': 1, 'max_iter': 500, 'solver': 'adam'}\n",
      "0.643 (+/-0.004) for {'alpha': 1e-05, 'hidden_layer_sizes': 1, 'max_iter': 1000, 'solver': 'adam'}\n",
      "0.645 (+/-0.002) for {'alpha': 1e-05, 'hidden_layer_sizes': 2, 'max_iter': 500, 'solver': 'adam'}\n",
      "0.646 (+/-0.006) for {'alpha': 1e-05, 'hidden_layer_sizes': 2, 'max_iter': 1000, 'solver': 'adam'}\n",
      "0.648 (+/-0.003) for {'alpha': 1e-05, 'hidden_layer_sizes': 3, 'max_iter': 500, 'solver': 'adam'}\n",
      "0.648 (+/-0.006) for {'alpha': 1e-05, 'hidden_layer_sizes': 3, 'max_iter': 1000, 'solver': 'adam'}\n",
      "0.649 (+/-0.006) for {'alpha': 1e-05, 'hidden_layer_sizes': 4, 'max_iter': 500, 'solver': 'adam'}\n",
      "0.647 (+/-0.003) for {'alpha': 1e-05, 'hidden_layer_sizes': 4, 'max_iter': 1000, 'solver': 'adam'}\n",
      "0.649 (+/-0.003) for {'alpha': 1e-05, 'hidden_layer_sizes': 5, 'max_iter': 500, 'solver': 'adam'}\n",
      "0.647 (+/-0.003) for {'alpha': 1e-05, 'hidden_layer_sizes': 5, 'max_iter': 1000, 'solver': 'adam'}\n",
      "0.644 (+/-0.005) for {'alpha': 1e-05, 'hidden_layer_sizes': (1, 1), 'max_iter': 500, 'solver': 'adam'}\n",
      "0.643 (+/-0.004) for {'alpha': 1e-05, 'hidden_layer_sizes': (1, 1), 'max_iter': 1000, 'solver': 'adam'}\n",
      "0.646 (+/-0.004) for {'alpha': 1e-05, 'hidden_layer_sizes': (2, 2), 'max_iter': 500, 'solver': 'adam'}\n",
      "0.646 (+/-0.004) for {'alpha': 1e-05, 'hidden_layer_sizes': (2, 2), 'max_iter': 1000, 'solver': 'adam'}\n",
      "0.652 (+/-0.005) for {'alpha': 1e-05, 'hidden_layer_sizes': (3, 3), 'max_iter': 500, 'solver': 'adam'}\n",
      "0.651 (+/-0.004) for {'alpha': 1e-05, 'hidden_layer_sizes': (3, 3), 'max_iter': 1000, 'solver': 'adam'}\n",
      "0.655 (+/-0.014) for {'alpha': 1e-05, 'hidden_layer_sizes': (4, 4), 'max_iter': 500, 'solver': 'adam'}\n",
      "0.653 (+/-0.010) for {'alpha': 1e-05, 'hidden_layer_sizes': (4, 4), 'max_iter': 1000, 'solver': 'adam'}\n",
      "0.658 (+/-0.009) for {'alpha': 1e-05, 'hidden_layer_sizes': (5, 5), 'max_iter': 500, 'solver': 'adam'}\n",
      "0.659 (+/-0.002) for {'alpha': 1e-05, 'hidden_layer_sizes': (5, 5), 'max_iter': 1000, 'solver': 'adam'}\n",
      "0.645 (+/-0.004) for {'alpha': 1e-06, 'hidden_layer_sizes': 1, 'max_iter': 500, 'solver': 'adam'}\n",
      "0.644 (+/-0.005) for {'alpha': 1e-06, 'hidden_layer_sizes': 1, 'max_iter': 1000, 'solver': 'adam'}\n",
      "0.647 (+/-0.005) for {'alpha': 1e-06, 'hidden_layer_sizes': 2, 'max_iter': 500, 'solver': 'adam'}\n",
      "0.646 (+/-0.003) for {'alpha': 1e-06, 'hidden_layer_sizes': 2, 'max_iter': 1000, 'solver': 'adam'}\n",
      "0.646 (+/-0.005) for {'alpha': 1e-06, 'hidden_layer_sizes': 3, 'max_iter': 500, 'solver': 'adam'}\n",
      "0.646 (+/-0.003) for {'alpha': 1e-06, 'hidden_layer_sizes': 3, 'max_iter': 1000, 'solver': 'adam'}\n",
      "0.648 (+/-0.006) for {'alpha': 1e-06, 'hidden_layer_sizes': 4, 'max_iter': 500, 'solver': 'adam'}\n",
      "0.647 (+/-0.002) for {'alpha': 1e-06, 'hidden_layer_sizes': 4, 'max_iter': 1000, 'solver': 'adam'}\n",
      "0.649 (+/-0.006) for {'alpha': 1e-06, 'hidden_layer_sizes': 5, 'max_iter': 500, 'solver': 'adam'}\n",
      "0.648 (+/-0.004) for {'alpha': 1e-06, 'hidden_layer_sizes': 5, 'max_iter': 1000, 'solver': 'adam'}\n",
      "0.643 (+/-0.004) for {'alpha': 1e-06, 'hidden_layer_sizes': (1, 1), 'max_iter': 500, 'solver': 'adam'}\n",
      "0.642 (+/-0.004) for {'alpha': 1e-06, 'hidden_layer_sizes': (1, 1), 'max_iter': 1000, 'solver': 'adam'}\n",
      "0.644 (+/-0.005) for {'alpha': 1e-06, 'hidden_layer_sizes': (2, 2), 'max_iter': 500, 'solver': 'adam'}\n",
      "0.645 (+/-0.006) for {'alpha': 1e-06, 'hidden_layer_sizes': (2, 2), 'max_iter': 1000, 'solver': 'adam'}\n",
      "0.647 (+/-0.004) for {'alpha': 1e-06, 'hidden_layer_sizes': (3, 3), 'max_iter': 500, 'solver': 'adam'}\n",
      "0.648 (+/-0.001) for {'alpha': 1e-06, 'hidden_layer_sizes': (3, 3), 'max_iter': 1000, 'solver': 'adam'}\n",
      "0.654 (+/-0.004) for {'alpha': 1e-06, 'hidden_layer_sizes': (4, 4), 'max_iter': 500, 'solver': 'adam'}\n",
      "0.655 (+/-0.012) for {'alpha': 1e-06, 'hidden_layer_sizes': (4, 4), 'max_iter': 1000, 'solver': 'adam'}\n",
      "0.653 (+/-0.002) for {'alpha': 1e-06, 'hidden_layer_sizes': (5, 5), 'max_iter': 500, 'solver': 'adam'}\n",
      "0.660 (+/-0.008) for {'alpha': 1e-06, 'hidden_layer_sizes': (5, 5), 'max_iter': 1000, 'solver': 'adam'}\n",
      "\n",
      "Detailed classification report:\n",
      "\n",
      "The model is trained on the full development set.\n",
      "The scores are computed on the full evaluation set.\n",
      "\n"
     ]
    },
    {
     "name": "stdout",
     "output_type": "stream",
     "text": [
      "              precision    recall  f1-score   support\n",
      "\n",
      "         0.0       0.67      0.94      0.78     71451\n",
      "         1.0       0.60      0.16      0.26     40239\n",
      "\n",
      "   micro avg       0.66      0.66      0.66    111690\n",
      "   macro avg       0.63      0.55      0.52    111690\n",
      "weighted avg       0.64      0.66      0.59    111690\n",
      "\n"
     ]
    }
   ],
   "source": [
    "\"\"\"\n",
    "The number of hidden neurons should be between the size of the input layer and the size of the output layer.\n",
    "The number of hidden neurons should be 2/3 the size of the input layer, plus the size of the output layer.\n",
    "The number of hidden neurons should be less than twice the size of the input layer.\n",
    "\"\"\"\n",
    "\n",
    "\n",
    "\n",
    "#for na in neural_arch:\n",
    "#    classifiers.append(MLPClassifier(hidden_layer_sizes=na, max_iter=500, alpha=0.001, solver='adam', verbose=True, tol=0.000000001))\n",
    "\n",
    "#for c in classifiers:\n",
    "#    c.fit(X_train, y_train)\n",
    "#    y_pred = c.predict(X_test)\n",
    "#    reports.append(classification_report(y_test, y_pred))\n",
    "\n",
    "#for r in reports:\n",
    "#    print(r)\n",
    "\n",
    "# c = MLPClassifier(hidden_layer_sizes=(5, 5))\n",
    "layers = [(1), (2), (3), (4), (5), (1, 1), (2, 2), (3, 3), (4, 4), (5, 5)]\n",
    "parameters = {'solver': ['adam'], 'max_iter': [500,1000], 'alpha': 10.0 ** -np.arange(1, 7), 'hidden_layer_sizes': layers}\n",
    "clf = GridSearchCV(neural_network.MLPClassifier(), parameters, n_jobs=-1)\n",
    "clf.fit(X_train, y_train)\n",
    "\n",
    "\n",
    "print(\"Best parameters set found on development set:\")\n",
    "print()\n",
    "print(clf.best_params_)\n",
    "print()\n",
    "print(\"Grid scores on development set:\")\n",
    "print()\n",
    "means = clf.cv_results_['mean_test_score']\n",
    "stds = clf.cv_results_['std_test_score']\n",
    "for mean, std, params in zip(means, stds, clf.cv_results_['params']):\n",
    "    print(\"%0.3f (+/-%0.03f) for %r\" % (mean, std * 2, params))\n",
    "print()\n",
    "print(\"Detailed classification report:\")\n",
    "print()\n",
    "print(\"The model is trained on the full development set.\")\n",
    "print(\"The scores are computed on the full evaluation set.\")\n",
    "print()\n",
    "y_true, y_pred = y_test, clf.predict(X_test)\n",
    "print(classification_report(y_true, y_pred))"
   ]
  },
  {
   "cell_type": "markdown",
   "metadata": {},
   "source": [
    "### Apresentação de métricas do modelo"
   ]
  },
  {
   "cell_type": "code",
   "execution_count": null,
   "metadata": {},
   "outputs": [],
   "source": [
    "from sklearn.metrics import confusion_matrix\n",
    "from sklearn.metrics import classification_report\n",
    "from sklearn.metrics import accuracy_score"
   ]
  },
  {
   "cell_type": "code",
   "execution_count": null,
   "metadata": {},
   "outputs": [],
   "source": [
    "print(classification_report(y_test, y_pred))\n",
    "print(accuracy_score(y_test, y_pred))\n",
    "print(confusion_matrix(y_test, y_pred))"
   ]
  }
 ],
 "metadata": {
  "kernelspec": {
   "display_name": "Python 3",
   "language": "python",
   "name": "python3"
  },
  "language_info": {
   "codemirror_mode": {
    "name": "ipython",
    "version": 3
   },
   "file_extension": ".py",
   "mimetype": "text/x-python",
   "name": "python",
   "nbconvert_exporter": "python",
   "pygments_lexer": "ipython3",
   "version": "3.6.6"
  }
 },
 "nbformat": 4,
 "nbformat_minor": 2
}
